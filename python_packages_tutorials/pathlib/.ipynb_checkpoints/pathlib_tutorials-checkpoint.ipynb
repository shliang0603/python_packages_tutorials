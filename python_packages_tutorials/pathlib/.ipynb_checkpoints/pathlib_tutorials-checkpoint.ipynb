{
 "cells": [
  {
   "cell_type": "markdown",
   "metadata": {},
   "source": [
    "# 1 pathlib模块介绍\n",
    "\n",
    "* [pathlib官方文档](https://docs.python.org/zh-cn/3.6/library/pathlib.html)\n",
    "\n",
    "## 1.1 pathlib模块介绍\n",
    "\n",
    "\n",
    "1、pathlib模块说明\n",
    "\n",
    "`pathlib`是一个`操作路径的模块`，使用 `pathlib 模块`基本可以代替 `os.path` 来处理路径。它采用了完全`面向对象`的编程方式。pathlib库是从python3.4开始的，到python3.6就已经比较完善了！（[参考](https://zhuanlan.zhihu.com/p/139783331)）\n",
    "\n",
    "\n",
    "2、使用pathlib模块的优势\n",
    "\n",
    "\n",
    "* 1）老的路径操作函数管理比较混乱，有的是导入 os, 有的又是在 os.path 当中，而新的用法统一可以用 pathlib 管理。\n",
    "* 2）老用法在处理不同操作系统 win，mac 以及 linux 之间很吃力。换了操作系统常常要改代码，还经常需要进行一些额外操作。\n",
    "* 3）老用法主要是函数形式，返回的数据类型通常是字符串。但是路径和字符串并不等价，所以在使用 os 操作路径的时候常常还要引入其他类库协助操作。新用法是面向对象，处理起来更灵活方便。\n",
    "* 4）pathlib 简化了很多操作，用起来更轻松。\n",
    "\n",
    "\n",
    "其包含六个类，图片如下:\n",
    "\n",
    "![pathlib_class](./imgs/pathlib_class.png)\n",
    "\n",
    "\n",
    "\n",
    "\n",
    "\n",
    "使用参考：\n",
    "\n",
    "[参考1](https://www.cnblogs.com/During/p/10841219.html)：https://www.cnblogs.com/During/p/10841219.html\n",
    "\n",
    "[参考2](https://zhuanlan.zhihu.com/p/139783331)：https://zhuanlan.zhihu.com/p/139783331\n",
    "\n",
    "[参考3](https://www.jb51.net/article/193402.htm)：https://www.jb51.net/article/193402.htm\n",
    "\n",
    "[参考4](https://blog.csdn.net/u011119817/article/details/107357364)：https://blog.csdn.net/u011119817/article/details/107357364\n",
    "\n",
    "[参考5](http://c.biancheng.net/view/2541.html)：http://c.biancheng.net/view/2541.html\n"
   ]
  },
  {
   "cell_type": "markdown",
   "metadata": {
    "ExecuteTime": {
     "end_time": "2020-12-18T08:26:48.855097Z",
     "start_time": "2020-12-18T08:26:48.851844Z"
    }
   },
   "source": [
    "## 1.2 pathlib模块的API简单介绍\n",
    "\n"
   ]
  },
  {
   "cell_type": "markdown",
   "metadata": {
    "ExecuteTime": {
     "end_time": "2020-12-11T01:47:57.066656Z",
     "start_time": "2020-12-11T01:47:57.058747Z"
    }
   },
   "source": [
    "下面是使用pathlib测试用到的目录：\n",
    "\n",
    "```python\n",
    "test/\n",
    "├── readme.md\n",
    "├── test1\n",
    "│   ├── subtest1\n",
    "│   └── subtest2\n",
    "├── test2\n",
    "│   ├── subtest3\n",
    "│   └── subtest4\n",
    "├── text1.txt\n",
    "└── text2.txt\n",
    "\n",
    "6 directories, 3 files\n",
    "```"
   ]
  },
  {
   "cell_type": "markdown",
   "metadata": {},
   "source": [
    "# 2 Path类的使用"
   ]
  },
  {
   "cell_type": "markdown",
   "metadata": {},
   "source": [
    "\n",
    "从`PurePath`继承的`数据描述符`\n",
    "\n",
    "\n",
    "先说明，下面说的组件就是路径分割符分割后的每个部分，例如：\n",
    "\n",
    "* /home/shl/test：该路径的最后一个组件是test\n",
    "* /home/shl/test/README.md：该路径的最后一个组件是README.md\n",
    "\n",
    "\n",
    "* anchor：连接`drive`和`root`，或`‘’`\n",
    "* drive：获取drive的后缀，如果有\n",
    "* name：返回路径最后一个组件的全名\n",
    "* parent：返回最后一个组件的父目录\n",
    "* parects：返回一个iterable的对象，包含所有的父目录\n",
    "* parts：将路径通过分隔符分割成一个元组\n",
    "* root：获取绝对路径的跟路径，例如`/home/shl`返回`‘/’`\n",
    "* stem：获取路径最后一个组件的文件名（不包括点）或目录名\n",
    "* suffix：获取路径最后一个组件的后缀名(包括点)，如果最后一个组件是目录则返回空字符串\n",
    "* suffixes：获取路径最后一个组件的后缀名，并生成一个列表，如果最后一个组件没有后缀名,则生成一个空列表\n",
    "\n"
   ]
  },
  {
   "cell_type": "code",
   "execution_count": 40,
   "metadata": {
    "ExecuteTime": {
     "end_time": "2020-12-18T08:14:38.336776Z",
     "start_time": "2020-12-18T08:14:38.329523Z"
    }
   },
   "outputs": [
    {
     "name": "stdout",
     "output_type": "stream",
     "text": [
      "p1 name: test1\n",
      "p2 name: readme.md\n",
      "p1 parent: test\n",
      "p2 parent: test\n",
      "p1 parents: <PosixPath.parents>\n",
      "p2 parents: <PosixPath.parents>\n",
      "p1 parts: ('test', 'test1')\n",
      "p2 parts: ('test', 'readme.md')\n",
      "p1 stem: test1\n",
      "p2 stem: readme\n",
      "p1 suffix: \n",
      "p2 suffix: .md\n",
      "p1 suffixes: []\n",
      "p2 suffixes: ['.md']\n"
     ]
    }
   ],
   "source": [
    "p1 = Path(\"./test/test1\")\n",
    "p2 = Path(\"./test/readme.md\")\n",
    "\n",
    "\n",
    "print(f\"p1 name: {p1.name}\")\n",
    "print(f\"p2 name: {p2.name}\")\n",
    "\n",
    "print(f\"p1 parent: {p1.parent}\")\n",
    "print(f\"p2 parent: {p2.parent}\")\n",
    "\n",
    "\n",
    "print(f\"p1 parents: {p1.parents}\")\n",
    "print(f\"p2 parents: {p2.parents}\")\n",
    "\n",
    "print(f\"p1 parts: {p1.parts}\")\n",
    "print(f\"p2 parts: {p2.parts}\")\n",
    "\n",
    "\n",
    "print(f\"p1 stem: {p1.stem}\")\n",
    "print(f\"p2 stem: {p2.stem}\")\n",
    "\n",
    "print(f\"p1 suffix: {p1.suffix}\")\n",
    "print(f\"p2 suffix: {p2.suffix}\")\n",
    "\n",
    "\n",
    "print(f\"p1 suffixes: {p1.suffixes}\")\n",
    "print(f\"p2 suffixes: {p2.suffixes}\")\n"
   ]
  },
  {
   "cell_type": "code",
   "execution_count": null,
   "metadata": {},
   "outputs": [],
   "source": []
  }
 ],
 "metadata": {
  "kernelspec": {
   "display_name": "Python [conda env:yolov4]",
   "language": "python",
   "name": "conda-env-yolov4-py"
  },
  "language_info": {
   "codemirror_mode": {
    "name": "ipython",
    "version": 3
   },
   "file_extension": ".py",
   "mimetype": "text/x-python",
   "name": "python",
   "nbconvert_exporter": "python",
   "pygments_lexer": "ipython3",
   "version": "3.6.12"
  },
  "latex_envs": {
   "LaTeX_envs_menu_present": true,
   "autoclose": false,
   "autocomplete": true,
   "bibliofile": "biblio.bib",
   "cite_by": "apalike",
   "current_citInitial": 1,
   "eqLabelWithNumbers": true,
   "eqNumInitial": 1,
   "hotkeys": {
    "equation": "Ctrl-E",
    "itemize": "Ctrl-I"
   },
   "labels_anchors": false,
   "latex_user_defs": false,
   "report_style_numbering": false,
   "user_envs_cfg": false
  },
  "toc": {
   "base_numbering": 1,
   "nav_menu": {},
   "number_sections": true,
   "sideBar": true,
   "skip_h1_title": false,
   "title_cell": "Table of Contents",
   "title_sidebar": "Contents",
   "toc_cell": false,
   "toc_position": {},
   "toc_section_display": true,
   "toc_window_display": false
  },
  "varInspector": {
   "cols": {
    "lenName": 16,
    "lenType": 16,
    "lenVar": 40
   },
   "kernels_config": {
    "python": {
     "delete_cmd_postfix": "",
     "delete_cmd_prefix": "del ",
     "library": "var_list.py",
     "varRefreshCmd": "print(var_dic_list())"
    },
    "r": {
     "delete_cmd_postfix": ") ",
     "delete_cmd_prefix": "rm(",
     "library": "var_list.r",
     "varRefreshCmd": "cat(var_dic_list()) "
    }
   },
   "types_to_exclude": [
    "module",
    "function",
    "builtin_function_or_method",
    "instance",
    "_Feature"
   ],
   "window_display": false
  }
 },
 "nbformat": 4,
 "nbformat_minor": 4
}
