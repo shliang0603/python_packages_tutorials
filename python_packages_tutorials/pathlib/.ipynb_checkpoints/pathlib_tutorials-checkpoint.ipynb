{
 "cells": [
  {
   "cell_type": "markdown",
   "metadata": {},
   "source": [
    "#1 pathlib模块介绍\n",
    "\n",
    "##1.1 pathlib模块介绍\n",
    "\n",
    "\n",
    "1、pathlib模块说明\n",
    "\n",
    "`pathlib`是一个`操作路径的模块`，使用 `pathlib 模块`基本可以代替 `os.path` 来处理路径。它采用了完全`面向对象`的编程方式。pathlib库是从python3.4开始的，到python3.6就已经比较完善了！（[参考](https://zhuanlan.zhihu.com/p/139783331)）\n",
    "\n",
    "\n",
    "2、使用pathlib模块的优势\n",
    "\n",
    "\n",
    "* 1）老的路径操作函数管理比较混乱，有的是导入 os, 有的又是在 os.path 当中，而新的用法统一可以用 pathlib 管理。\n",
    "* 2）老用法在处理不同操作系统 win，mac 以及 linux 之间很吃力。换了操作系统常常要改代码，还经常需要进行一些额外操作。\n",
    "* 3）老用法主要是函数形式，返回的数据类型通常是字符串。但是路径和字符串并不等价，所以在使用 os 操作路径的时候常常还要引入其他类库协助操作。新用法是面向对象，处理起来更灵活方便。\n",
    "* 4）pathlib 简化了很多操作，用起来更轻松。\n",
    "\n",
    "\n",
    "其包含六个类，图片如下:\n",
    "\n",
    "![pathlib_class](./imgs/pathlib_class.png)\n",
    "\n",
    "\n",
    "\n",
    "\n",
    "\n",
    "使用参考：\n",
    "\n",
    "[参考1](https://www.cnblogs.com/During/p/10841219.html)：https://www.cnblogs.com/During/p/10841219.html\n",
    "\n",
    "[参考2](https://zhuanlan.zhihu.com/p/139783331)：https://zhuanlan.zhihu.com/p/139783331\n",
    "\n",
    "[参考3](https://www.jb51.net/article/193402.htm)：https://www.jb51.net/article/193402.htm\n",
    "\n",
    "[参考4](https://blog.csdn.net/u011119817/article/details/107357364)：https://blog.csdn.net/u011119817/article/details/107357364\n",
    "\n",
    "[参考5](http://c.biancheng.net/view/2541.html)：http://c.biancheng.net/view/2541.html\n"
   ]
  },
  {
   "cell_type": "code",
   "execution_count": 2,
   "metadata": {
    "ExecuteTime": {
     "end_time": "2020-12-11T01:28:05.747831Z",
     "start_time": "2020-12-11T01:28:05.745603Z"
    }
   },
   "outputs": [
    {
     "name": "stdout",
     "output_type": "stream",
     "text": [
      "['EINVAL', 'ENOENT', 'ENOTDIR', 'Path', 'PosixPath', 'PurePath', 'PurePosixPath', 'PureWindowsPath', 'S_ISBLK', 'S_ISCHR', 'S_ISDIR', 'S_ISFIFO', 'S_ISLNK', 'S_ISREG', 'S_ISSOCK', 'Sequence', 'WindowsPath', '_Accessor', '_Flavour', '_NormalAccessor', '_PathParents', '_PosixFlavour', '_PreciseSelector', '_RecursiveWildcardSelector', '_Selector', '_TerminatingSelector', '_WildcardSelector', '_WindowsFlavour', '__all__', '__builtins__', '__cached__', '__doc__', '__file__', '__loader__', '__name__', '__package__', '__spec__', '_is_wildcard_pattern', '_make_selector', '_normal_accessor', '_posix_flavour', '_windows_flavour', 'attrgetter', 'contextmanager', 'fnmatch', 'functools', 'io', 'nt', 'ntpath', 'os', 'posixpath', 're', 'supports_symlinks', 'sys', 'urlquote_from_bytes']\n"
     ]
    }
   ],
   "source": [
    "import pathlib\n",
    "\n",
    "pathlib.Path\n",
    "\n",
    "print(dir(pathlib))"
   ]
  },
  {
   "cell_type": "code",
   "execution_count": 3,
   "metadata": {
    "ExecuteTime": {
     "end_time": "2020-12-11T01:47:57.066656Z",
     "start_time": "2020-12-11T01:47:57.058747Z"
    }
   },
   "outputs": [
    {
     "name": "stdout",
     "output_type": "stream",
     "text": [
      "hello world\n"
     ]
    }
   ],
   "source": [
    "print('hello world')"
   ]
  },
  {
   "cell_type": "code",
   "execution_count": null,
   "metadata": {},
   "outputs": [],
   "source": []
  }
 ],
 "metadata": {
  "kernelspec": {
   "display_name": "Python [conda env:yolov4] *",
   "language": "python",
   "name": "conda-env-yolov4-py"
  },
  "language_info": {
   "codemirror_mode": {
    "name": "ipython",
    "version": 3
   },
   "file_extension": ".py",
   "mimetype": "text/x-python",
   "name": "python",
   "nbconvert_exporter": "python",
   "pygments_lexer": "ipython3",
   "version": "3.6.12"
  },
  "latex_envs": {
   "LaTeX_envs_menu_present": true,
   "autoclose": false,
   "autocomplete": true,
   "bibliofile": "biblio.bib",
   "cite_by": "apalike",
   "current_citInitial": 1,
   "eqLabelWithNumbers": true,
   "eqNumInitial": 1,
   "hotkeys": {
    "equation": "Ctrl-E",
    "itemize": "Ctrl-I"
   },
   "labels_anchors": false,
   "latex_user_defs": false,
   "report_style_numbering": false,
   "user_envs_cfg": false
  },
  "toc": {
   "base_numbering": 1,
   "nav_menu": {},
   "number_sections": true,
   "sideBar": true,
   "skip_h1_title": false,
   "title_cell": "Table of Contents",
   "title_sidebar": "Contents",
   "toc_cell": false,
   "toc_position": {},
   "toc_section_display": true,
   "toc_window_display": false
  },
  "varInspector": {
   "cols": {
    "lenName": 16,
    "lenType": 16,
    "lenVar": 40
   },
   "kernels_config": {
    "python": {
     "delete_cmd_postfix": "",
     "delete_cmd_prefix": "del ",
     "library": "var_list.py",
     "varRefreshCmd": "print(var_dic_list())"
    },
    "r": {
     "delete_cmd_postfix": ") ",
     "delete_cmd_prefix": "rm(",
     "library": "var_list.r",
     "varRefreshCmd": "cat(var_dic_list()) "
    }
   },
   "types_to_exclude": [
    "module",
    "function",
    "builtin_function_or_method",
    "instance",
    "_Feature"
   ],
   "window_display": false
  }
 },
 "nbformat": 4,
 "nbformat_minor": 4
}
